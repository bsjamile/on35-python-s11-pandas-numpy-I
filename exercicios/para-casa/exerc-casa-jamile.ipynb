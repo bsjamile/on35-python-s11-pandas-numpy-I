{
 "cells": [
  {
   "cell_type": "markdown",
   "metadata": {},
   "source": [
    "# Exercício de Casa 🏠 \n",
    "\n",
    "Utilizar a tabela de dados do clima de seu estado, manipule os dados de acordo com as instruções abaixo:\n",
    "\n",
    "    - calcular a média da temperatura da amostra\n",
    "    - retirar nulos da coluna 'RADIACAO GLOBAL (Kj/m2)'\n",
    "    - copiar o dataframe reduzindo para 3 colunas (a sua escolha) e 1000 linhas (aleatórias)\n",
    "    - Bônus: normalizar coluna (qualquer uma)\n",
    "    - Bônus II: pesquisar sobre outras formas de processamento de dados além das vistas em sala de aula"
   ]
  },
  {
   "cell_type": "code",
   "execution_count": 78,
   "metadata": {},
   "outputs": [],
   "source": [
    "import pandas as pd\n",
    "import numpy as np\n",
    "df = pd.read_csv('SALVADOR_2023.csv', delimiter=';', skiprows=8, encoding='latin1')"
   ]
  },
  {
   "cell_type": "code",
   "execution_count": 79,
   "metadata": {},
   "outputs": [
    {
     "name": "stdout",
     "output_type": "stream",
     "text": [
      "média da temperatura ar - bulbo seco: 2.75\n",
      "moda da temperatura ar - bulbo seco: 0    0.0\n",
      "Name: TEMPERATURA DO AR - BULBO SECO, HORARIA (°C), dtype: float64\n",
      "mediana da temperatura ar - bulbo seco: 0.0\n",
      "desvio padrao da temperatura ar - bulbo seco: 8.05\n",
      "máx temperatura ar - bulbo seco: 33.0\n",
      "min temperatura ar - bulbo seco: 0.0\n"
     ]
    }
   ],
   "source": [
    "# calcular a média da temperatura da amostra\n",
    "\n",
    "df_temperatura = df['TEMPERATURA DO AR - BULBO SECO, HORARIA (°C)']\n",
    "df_temperatura = pd.to_numeric(df_temperatura, errors='coerce')\n",
    "df_temperatura = df_temperatura.replace(np.nan,0)\n",
    "\n",
    "df_temperatura_media = round(df_temperatura.mean(),2)\n",
    "df_temperatura_moda = round(df_temperatura.mode(),2)\n",
    "df_temperatura_mediana = round(df_temperatura.median(),2)\n",
    "df_temperatura_std = round(df_temperatura.std(),2)\n",
    "df_temperatura_max = round(df_temperatura.max(),2)\n",
    "df_temperatura_min = round(df_temperatura.min(),2)\n",
    "\n",
    "print(f'média da temperatura ar - bulbo seco: {df_temperatura_media}')\n",
    "print(f'moda da temperatura ar - bulbo seco: {df_temperatura_moda}')\n",
    "print(f'mediana da temperatura ar - bulbo seco: {df_temperatura_mediana}')\n",
    "print(f'desvio padrao da temperatura ar - bulbo seco: {df_temperatura_std}')\n",
    "print(f'máx temperatura ar - bulbo seco: {df_temperatura_max}')\n",
    "print(f'min temperatura ar - bulbo seco: {df_temperatura_min}')"
   ]
  },
  {
   "cell_type": "code",
   "execution_count": 91,
   "metadata": {},
   "outputs": [
    {
     "name": "stdout",
     "output_type": "stream",
     "text": [
      "Qtd de nulos na coluna radiacao: 4025\n",
      "Qtd de nulos após remoção de nulos: 0\n"
     ]
    }
   ],
   "source": [
    "# retirar nulos da coluna 'RADIACAO GLOBAL (Kj/m2)'\n",
    "\n",
    "df_radiacao = df['RADIACAO GLOBAL (Kj/m²)']\n",
    "\n",
    "print(f'Qtd de nulos na coluna radiacao: {df_radiacao.isnull().sum()}') \n",
    "\n",
    "df_radiacao_sem_null = df_radiacao.dropna()\n",
    "\n",
    "print(f'Qtd de nulos após remoção de nulos: {df_radiacao_sem_null.isnull().sum()}') "
   ]
  },
  {
   "cell_type": "code",
   "execution_count": 105,
   "metadata": {},
   "outputs": [
    {
     "data": {
      "text/html": [
       "<div>\n",
       "<style scoped>\n",
       "    .dataframe tbody tr th:only-of-type {\n",
       "        vertical-align: middle;\n",
       "    }\n",
       "\n",
       "    .dataframe tbody tr th {\n",
       "        vertical-align: top;\n",
       "    }\n",
       "\n",
       "    .dataframe thead th {\n",
       "        text-align: right;\n",
       "    }\n",
       "</style>\n",
       "<table border=\"1\" class=\"dataframe\">\n",
       "  <thead>\n",
       "    <tr style=\"text-align: right;\">\n",
       "      <th></th>\n",
       "      <th>PRESSAO ATMOSFERICA AO NIVEL DA ESTACAO, HORARIA (mB)</th>\n",
       "      <th>TEMPERATURA MÁXIMA NA HORA ANT. (AUT) (°C)</th>\n",
       "      <th>UMIDADE REL. MAX. NA HORA ANT. (AUT) (%)</th>\n",
       "    </tr>\n",
       "  </thead>\n",
       "  <tbody>\n",
       "    <tr>\n",
       "      <th>165</th>\n",
       "      <td>1007,1</td>\n",
       "      <td>27,2</td>\n",
       "      <td>80.0</td>\n",
       "    </tr>\n",
       "    <tr>\n",
       "      <th>1761</th>\n",
       "      <td>1006,8</td>\n",
       "      <td>24,5</td>\n",
       "      <td>84.0</td>\n",
       "    </tr>\n",
       "    <tr>\n",
       "      <th>4831</th>\n",
       "      <td>1014,7</td>\n",
       "      <td>22,3</td>\n",
       "      <td>91.0</td>\n",
       "    </tr>\n",
       "    <tr>\n",
       "      <th>8416</th>\n",
       "      <td>1005,8</td>\n",
       "      <td>32,1</td>\n",
       "      <td>55.0</td>\n",
       "    </tr>\n",
       "    <tr>\n",
       "      <th>706</th>\n",
       "      <td>1007</td>\n",
       "      <td>26,8</td>\n",
       "      <td>76.0</td>\n",
       "    </tr>\n",
       "    <tr>\n",
       "      <th>...</th>\n",
       "      <td>...</td>\n",
       "      <td>...</td>\n",
       "      <td>...</td>\n",
       "    </tr>\n",
       "    <tr>\n",
       "      <th>3829</th>\n",
       "      <td>1013</td>\n",
       "      <td>26,5</td>\n",
       "      <td>93.0</td>\n",
       "    </tr>\n",
       "    <tr>\n",
       "      <th>4916</th>\n",
       "      <td>1013,3</td>\n",
       "      <td>25,7</td>\n",
       "      <td>76.0</td>\n",
       "    </tr>\n",
       "    <tr>\n",
       "      <th>2384</th>\n",
       "      <td>1007</td>\n",
       "      <td>25,1</td>\n",
       "      <td>88.0</td>\n",
       "    </tr>\n",
       "    <tr>\n",
       "      <th>6344</th>\n",
       "      <td>1009,9</td>\n",
       "      <td>23,4</td>\n",
       "      <td>86.0</td>\n",
       "    </tr>\n",
       "    <tr>\n",
       "      <th>5707</th>\n",
       "      <td>1004,2</td>\n",
       "      <td>29,6</td>\n",
       "      <td>69.0</td>\n",
       "    </tr>\n",
       "  </tbody>\n",
       "</table>\n",
       "<p>1000 rows × 3 columns</p>\n",
       "</div>"
      ],
      "text/plain": [
       "     PRESSAO ATMOSFERICA AO NIVEL DA ESTACAO, HORARIA (mB)  \\\n",
       "165                                              1007,1      \n",
       "1761                                             1006,8      \n",
       "4831                                             1014,7      \n",
       "8416                                             1005,8      \n",
       "706                                                1007      \n",
       "...                                                 ...      \n",
       "3829                                               1013      \n",
       "4916                                             1013,3      \n",
       "2384                                               1007      \n",
       "6344                                             1009,9      \n",
       "5707                                             1004,2      \n",
       "\n",
       "     TEMPERATURA MÁXIMA NA HORA ANT. (AUT) (°C)  \\\n",
       "165                                        27,2   \n",
       "1761                                       24,5   \n",
       "4831                                       22,3   \n",
       "8416                                       32,1   \n",
       "706                                        26,8   \n",
       "...                                         ...   \n",
       "3829                                       26,5   \n",
       "4916                                       25,7   \n",
       "2384                                       25,1   \n",
       "6344                                       23,4   \n",
       "5707                                       29,6   \n",
       "\n",
       "      UMIDADE REL. MAX. NA HORA ANT. (AUT) (%)  \n",
       "165                                       80.0  \n",
       "1761                                      84.0  \n",
       "4831                                      91.0  \n",
       "8416                                      55.0  \n",
       "706                                       76.0  \n",
       "...                                        ...  \n",
       "3829                                      93.0  \n",
       "4916                                      76.0  \n",
       "2384                                      88.0  \n",
       "6344                                      86.0  \n",
       "5707                                      69.0  \n",
       "\n",
       "[1000 rows x 3 columns]"
      ]
     },
     "execution_count": 105,
     "metadata": {},
     "output_type": "execute_result"
    }
   ],
   "source": [
    "# copiar o dataframe reduzindo para 3 colunas (a sua escolha) e 1000 linhas (aleatórias)\n",
    "\n",
    "df_amostra_1000 = df[['PRESSAO ATMOSFERICA AO NIVEL DA ESTACAO, HORARIA (mB)','TEMPERATURA MÁXIMA NA HORA ANT. (AUT) (°C)','UMIDADE REL. MAX. NA HORA ANT. (AUT) (%)']].sample(1000)\n",
    "df_amostra_1000\n"
   ]
  },
  {
   "cell_type": "code",
   "execution_count": 106,
   "metadata": {},
   "outputs": [
    {
     "data": {
      "text/plain": [
       "(1000, 3)"
      ]
     },
     "execution_count": 106,
     "metadata": {},
     "output_type": "execute_result"
    }
   ],
   "source": [
    "# copiar o dataframe reduzindo para 3 colunas (a sua escolha) e 1000 linhas (aleatórias)\n",
    "# testando quantidade de linhas da amostra\n",
    "df_amostra_1000.shape"
   ]
  },
  {
   "cell_type": "code",
   "execution_count": 114,
   "metadata": {},
   "outputs": [
    {
     "data": {
      "text/plain": [
       "0      -0.297159\n",
       "1      -0.297159\n",
       "2      -0.187429\n",
       "3      -0.077699\n",
       "4       0.909875\n",
       "          ...   \n",
       "8755   -1.833385\n",
       "8756   -1.284733\n",
       "8757   -0.736081\n",
       "8758   -0.626350\n",
       "8759   -0.187429\n",
       "Name: UMIDADE REL. MAX. NA HORA ANT. (AUT) (%), Length: 8760, dtype: float64"
      ]
     },
     "execution_count": 114,
     "metadata": {},
     "output_type": "execute_result"
    }
   ],
   "source": [
    "#Bônus: normalizar coluna (qualquer uma)\n",
    "# Para não esquecer o conceito de normalizacao = Normalizacao é o processo de ajustar os valores das colunas para um mesmo intervalo, geralmente entre 0 e 1\n",
    "\n",
    "df_umidade = df['UMIDADE REL. MAX. NA HORA ANT. (AUT) (%)']\n",
    "df_umidade.fillna(0)\n",
    "df_umidade = pd.to_numeric(df_umidade)\n",
    "df_normalizacao = (df_umidade - df_umidade.mean()) / df_umidade.std()\n",
    "df_normalizacao"
   ]
  },
  {
   "cell_type": "code",
   "execution_count": 118,
   "metadata": {},
   "outputs": [
    {
     "name": "stdout",
     "output_type": "stream",
     "text": [
      "<class 'pandas.core.frame.DataFrame'>\n",
      "RangeIndex: 8760 entries, 0 to 8759\n",
      "Data columns (total 20 columns):\n",
      " #   Column                                                 Non-Null Count  Dtype  \n",
      "---  ------                                                 --------------  -----  \n",
      " 0   Data                                                   8760 non-null   object \n",
      " 1   Hora UTC                                               8760 non-null   object \n",
      " 2   PRECIPITAÇÃO TOTAL, HORÁRIO (mm)                       8756 non-null   object \n",
      " 3   PRESSAO ATMOSFERICA AO NIVEL DA ESTACAO, HORARIA (mB)  8756 non-null   object \n",
      " 4   PRESSÃO ATMOSFERICA MAX.NA HORA ANT. (AUT) (mB)        8756 non-null   object \n",
      " 5   PRESSÃO ATMOSFERICA MIN. NA HORA ANT. (AUT) (mB)       8756 non-null   object \n",
      " 6   RADIACAO GLOBAL (Kj/m²)                                4735 non-null   object \n",
      " 7   TEMPERATURA DO AR - BULBO SECO, HORARIA (°C)           8756 non-null   object \n",
      " 8   TEMPERATURA DO PONTO DE ORVALHO (°C)                   8756 non-null   object \n",
      " 9   TEMPERATURA MÁXIMA NA HORA ANT. (AUT) (°C)             8756 non-null   object \n",
      " 10  TEMPERATURA MÍNIMA NA HORA ANT. (AUT) (°C)             8756 non-null   object \n",
      " 11  TEMPERATURA ORVALHO MAX. NA HORA ANT. (AUT) (°C)       8756 non-null   object \n",
      " 12  TEMPERATURA ORVALHO MIN. NA HORA ANT. (AUT) (°C)       8756 non-null   object \n",
      " 13  UMIDADE REL. MAX. NA HORA ANT. (AUT) (%)               8756 non-null   float64\n",
      " 14  UMIDADE REL. MIN. NA HORA ANT. (AUT) (%)               8756 non-null   float64\n",
      " 15  UMIDADE RELATIVA DO AR, HORARIA (%)                    8756 non-null   float64\n",
      " 16  VENTO, DIREÇÃO HORARIA (gr) (° (gr))                   8756 non-null   float64\n",
      " 17  VENTO, RAJADA MAXIMA (m/s)                             8756 non-null   object \n",
      " 18  VENTO, VELOCIDADE HORARIA (m/s)                        8756 non-null   object \n",
      " 19  Unnamed: 19                                            0 non-null      float64\n",
      "dtypes: float64(5), object(15)\n",
      "memory usage: 1.3+ MB\n"
     ]
    }
   ],
   "source": [
    "# Bônus II: pesquisar sobre outras formas de processamento de dados além das vistas em sala de aula\n",
    "\n",
    "df.info() "
   ]
  },
  {
   "cell_type": "code",
   "execution_count": 119,
   "metadata": {},
   "outputs": [
    {
     "data": {
      "text/plain": [
       "np.float64(93.0)"
      ]
     },
     "execution_count": 119,
     "metadata": {},
     "output_type": "execute_result"
    }
   ],
   "source": [
    "# Bônus II: pesquisar sobre outras formas de processamento de dados além das vistas em sala de aula\n",
    "# index 3829 = 93.0\n",
    "\n",
    "#loc retorna o valor do indice dado como parametro\n",
    "df_umidade.loc[3829]\n"
   ]
  },
  {
   "cell_type": "code",
   "execution_count": 133,
   "metadata": {},
   "outputs": [
    {
     "data": {
      "text/plain": [
       "np.int64(535)"
      ]
     },
     "execution_count": 133,
     "metadata": {},
     "output_type": "execute_result"
    }
   ],
   "source": [
    "# Bônus II: pesquisar sobre outras formas de processamento de dados além das vistas em sala de aula\n",
    "df_max_temp = pd.to_numeric(df['TEMPERATURA MÁXIMA NA HORA ANT. (AUT) (°C)'],errors='coerce') # dados invalidos serao transformados em NaN retornando float\n",
    "df_maxima_maior_25 = (df_max_temp > 25).sum()\n",
    "df_maxima_maior_25"
   ]
  },
  {
   "cell_type": "code",
   "execution_count": 134,
   "metadata": {},
   "outputs": [
    {
     "data": {
      "text/plain": [
       "np.int64(0)"
      ]
     },
     "execution_count": 134,
     "metadata": {},
     "output_type": "execute_result"
    }
   ],
   "source": [
    "# Bônus II: pesquisar sobre outras formas de processamento de dados além das vistas em sala de aula\n",
    "df_max_temp_zero = (df_max_temp == 0).sum()\n",
    "df_max_temp_zero"
   ]
  },
  {
   "cell_type": "code",
   "execution_count": 153,
   "metadata": {},
   "outputs": [
    {
     "data": {
      "text/plain": [
       "0       1414.321962\n",
       "1       1414.321962\n",
       "2       1414.321962\n",
       "3       1414.321962\n",
       "4       1414.321962\n",
       "           ...     \n",
       "8755         1641,3\n",
       "8756          644,8\n",
       "8757          148,7\n",
       "8758    1414.321962\n",
       "8759    1414.321962\n",
       "Name: RADIACAO GLOBAL (Kj/m²), Length: 8760, dtype: object"
      ]
     },
     "execution_count": 153,
     "metadata": {},
     "output_type": "execute_result"
    }
   ],
   "source": [
    "# Bônus II: pesquisar sobre outras formas de processamento de dados além das vistas em sala de aula\n",
    "\n",
    "df_radiacao = pd.to_numeric(df['RADIACAO GLOBAL (Kj/m²)'],errors='coerce')\n",
    "df_radiacao.fillna(0)\n",
    "df_radiacao_media = df_radiacao.mean()\n",
    "df['RADIACAO GLOBAL (Kj/m²)'].fillna(df_radiacao_media, inplace=False)"
   ]
  }
 ],
 "metadata": {
  "kernelspec": {
   "display_name": "Python 3",
   "language": "python",
   "name": "python3"
  },
  "language_info": {
   "codemirror_mode": {
    "name": "ipython",
    "version": 3
   },
   "file_extension": ".py",
   "mimetype": "text/x-python",
   "name": "python",
   "nbconvert_exporter": "python",
   "pygments_lexer": "ipython3",
   "version": "3.12.3"
  }
 },
 "nbformat": 4,
 "nbformat_minor": 2
}
